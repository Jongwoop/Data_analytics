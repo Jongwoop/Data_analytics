{
 "cells": [
  {
   "cell_type": "markdown",
   "metadata": {},
   "source": [
    "# Funnel Analysis \n",
    "\n",
    "### Goal\n",
    "\n",
    "Analayze page conversion funnel per each feature and find insight that product team should focus or find bugs & improvement point for engineers to raise the volume of sales.\n",
    "\n",
    "### Background\n",
    "\n",
    "This e-commerce website has four pages, 'HomePage', 'SearchPage', 'PaymentPage' and 'Confirmation Page'. \n",
    "We are trying to find out when and where the user abondon."
   ]
  },
  {
   "cell_type": "code",
   "execution_count": 1,
   "metadata": {},
   "outputs": [],
   "source": [
    "import pandas as pd\n",
    "import numpy as np\n",
    "%matplotlib inline\n",
    "import seaborn as sns\n",
    "import matplotlib.pyplot as plt"
   ]
  },
  {
   "cell_type": "code",
   "execution_count": 2,
   "metadata": {},
   "outputs": [],
   "source": [
    "pd.set_option('display.max_rows', 500)\n",
    "pd.set_option('display.max_columns', 500)"
   ]
  },
  {
   "cell_type": "markdown",
   "metadata": {},
   "source": [
    "## Load and merge the data"
   ]
  },
  {
   "cell_type": "code",
   "execution_count": 3,
   "metadata": {},
   "outputs": [
    {
     "name": "stdout",
     "output_type": "stream",
     "text": [
      "(90400, 4) (90400, 2) (45200, 2) (6030, 2) (452, 2)\n"
     ]
    },
    {
     "data": {
      "text/html": [
       "<div>\n",
       "<style scoped>\n",
       "    .dataframe tbody tr th:only-of-type {\n",
       "        vertical-align: middle;\n",
       "    }\n",
       "\n",
       "    .dataframe tbody tr th {\n",
       "        vertical-align: top;\n",
       "    }\n",
       "\n",
       "    .dataframe thead th {\n",
       "        text-align: right;\n",
       "    }\n",
       "</style>\n",
       "<table border=\"1\" class=\"dataframe\">\n",
       "  <thead>\n",
       "    <tr style=\"text-align: right;\">\n",
       "      <th></th>\n",
       "      <th>user_id</th>\n",
       "      <th>date</th>\n",
       "      <th>device</th>\n",
       "      <th>sex</th>\n",
       "    </tr>\n",
       "  </thead>\n",
       "  <tbody>\n",
       "    <tr>\n",
       "      <td>0</td>\n",
       "      <td>450007</td>\n",
       "      <td>2015-02-28</td>\n",
       "      <td>Desktop</td>\n",
       "      <td>Female</td>\n",
       "    </tr>\n",
       "  </tbody>\n",
       "</table>\n",
       "</div>"
      ],
      "text/plain": [
       "   user_id       date   device     sex\n",
       "0   450007 2015-02-28  Desktop  Female"
      ]
     },
     "metadata": {},
     "output_type": "display_data"
    },
    {
     "data": {
      "text/html": [
       "<div>\n",
       "<style scoped>\n",
       "    .dataframe tbody tr th:only-of-type {\n",
       "        vertical-align: middle;\n",
       "    }\n",
       "\n",
       "    .dataframe tbody tr th {\n",
       "        vertical-align: top;\n",
       "    }\n",
       "\n",
       "    .dataframe thead th {\n",
       "        text-align: right;\n",
       "    }\n",
       "</style>\n",
       "<table border=\"1\" class=\"dataframe\">\n",
       "  <thead>\n",
       "    <tr style=\"text-align: right;\">\n",
       "      <th></th>\n",
       "      <th>user_id</th>\n",
       "      <th>page</th>\n",
       "    </tr>\n",
       "  </thead>\n",
       "  <tbody>\n",
       "    <tr>\n",
       "      <td>0</td>\n",
       "      <td>313593</td>\n",
       "      <td>home_page</td>\n",
       "    </tr>\n",
       "  </tbody>\n",
       "</table>\n",
       "</div>"
      ],
      "text/plain": [
       "   user_id       page\n",
       "0   313593  home_page"
      ]
     },
     "metadata": {},
     "output_type": "display_data"
    },
    {
     "data": {
      "text/html": [
       "<div>\n",
       "<style scoped>\n",
       "    .dataframe tbody tr th:only-of-type {\n",
       "        vertical-align: middle;\n",
       "    }\n",
       "\n",
       "    .dataframe tbody tr th {\n",
       "        vertical-align: top;\n",
       "    }\n",
       "\n",
       "    .dataframe thead th {\n",
       "        text-align: right;\n",
       "    }\n",
       "</style>\n",
       "<table border=\"1\" class=\"dataframe\">\n",
       "  <thead>\n",
       "    <tr style=\"text-align: right;\">\n",
       "      <th></th>\n",
       "      <th>user_id</th>\n",
       "      <th>page</th>\n",
       "    </tr>\n",
       "  </thead>\n",
       "  <tbody>\n",
       "    <tr>\n",
       "      <td>0</td>\n",
       "      <td>15866</td>\n",
       "      <td>search_page</td>\n",
       "    </tr>\n",
       "  </tbody>\n",
       "</table>\n",
       "</div>"
      ],
      "text/plain": [
       "   user_id         page\n",
       "0    15866  search_page"
      ]
     },
     "metadata": {},
     "output_type": "display_data"
    },
    {
     "data": {
      "text/html": [
       "<div>\n",
       "<style scoped>\n",
       "    .dataframe tbody tr th:only-of-type {\n",
       "        vertical-align: middle;\n",
       "    }\n",
       "\n",
       "    .dataframe tbody tr th {\n",
       "        vertical-align: top;\n",
       "    }\n",
       "\n",
       "    .dataframe thead th {\n",
       "        text-align: right;\n",
       "    }\n",
       "</style>\n",
       "<table border=\"1\" class=\"dataframe\">\n",
       "  <thead>\n",
       "    <tr style=\"text-align: right;\">\n",
       "      <th></th>\n",
       "      <th>user_id</th>\n",
       "      <th>page</th>\n",
       "    </tr>\n",
       "  </thead>\n",
       "  <tbody>\n",
       "    <tr>\n",
       "      <td>0</td>\n",
       "      <td>253019</td>\n",
       "      <td>payment_page</td>\n",
       "    </tr>\n",
       "  </tbody>\n",
       "</table>\n",
       "</div>"
      ],
      "text/plain": [
       "   user_id          page\n",
       "0   253019  payment_page"
      ]
     },
     "metadata": {},
     "output_type": "display_data"
    },
    {
     "data": {
      "text/html": [
       "<div>\n",
       "<style scoped>\n",
       "    .dataframe tbody tr th:only-of-type {\n",
       "        vertical-align: middle;\n",
       "    }\n",
       "\n",
       "    .dataframe tbody tr th {\n",
       "        vertical-align: top;\n",
       "    }\n",
       "\n",
       "    .dataframe thead th {\n",
       "        text-align: right;\n",
       "    }\n",
       "</style>\n",
       "<table border=\"1\" class=\"dataframe\">\n",
       "  <thead>\n",
       "    <tr style=\"text-align: right;\">\n",
       "      <th></th>\n",
       "      <th>user_id</th>\n",
       "      <th>page</th>\n",
       "    </tr>\n",
       "  </thead>\n",
       "  <tbody>\n",
       "    <tr>\n",
       "      <td>0</td>\n",
       "      <td>123100</td>\n",
       "      <td>payment_confirmation_page</td>\n",
       "    </tr>\n",
       "  </tbody>\n",
       "</table>\n",
       "</div>"
      ],
      "text/plain": [
       "   user_id                       page\n",
       "0   123100  payment_confirmation_page"
      ]
     },
     "metadata": {},
     "output_type": "display_data"
    },
    {
     "data": {
      "text/plain": [
       "(None, None)"
      ]
     },
     "execution_count": 3,
     "metadata": {},
     "output_type": "execute_result"
    }
   ],
   "source": [
    "def checking():\n",
    "    user = pd.read_csv(\"Data_funnel/user_table.csv\")\n",
    "    user['date'] = pd.to_datetime(user.date)\n",
    "    \n",
    "    homep = pd.read_csv(\"Data_funnel/home_page_table.csv\")\n",
    "    searchp = pd.read_csv(\"Data_funnel/search_page_table.csv\")\n",
    "    paymentp = pd.read_csv(\"Data_funnel/payment_page_table.csv\")\n",
    "    paymentc = pd.read_csv(\"Data_funnel/payment_confirmation_table.csv\")\n",
    "    \n",
    "        \n",
    "    return (print(user.shape, homep.shape, searchp.shape, paymentp.shape, paymentc.shape), \n",
    "            display(user.head(1), homep.head(1), searchp.head(1), paymentp.head(1), paymentc.head(1))) \n",
    "\n",
    "checking()"
   ]
  },
  {
   "cell_type": "code",
   "execution_count": 4,
   "metadata": {},
   "outputs": [
    {
     "data": {
      "text/html": [
       "<div>\n",
       "<style scoped>\n",
       "    .dataframe tbody tr th:only-of-type {\n",
       "        vertical-align: middle;\n",
       "    }\n",
       "\n",
       "    .dataframe tbody tr th {\n",
       "        vertical-align: top;\n",
       "    }\n",
       "\n",
       "    .dataframe thead th {\n",
       "        text-align: right;\n",
       "    }\n",
       "</style>\n",
       "<table border=\"1\" class=\"dataframe\">\n",
       "  <thead>\n",
       "    <tr style=\"text-align: right;\">\n",
       "      <th></th>\n",
       "      <th>user_id</th>\n",
       "      <th>date</th>\n",
       "      <th>device</th>\n",
       "      <th>sex</th>\n",
       "      <th>home_page</th>\n",
       "      <th>search_page</th>\n",
       "      <th>payment_page</th>\n",
       "      <th>payment_confirmation</th>\n",
       "    </tr>\n",
       "  </thead>\n",
       "  <tbody>\n",
       "    <tr>\n",
       "      <td>0</td>\n",
       "      <td>450007</td>\n",
       "      <td>2015-02-28</td>\n",
       "      <td>Desktop</td>\n",
       "      <td>Female</td>\n",
       "      <td>1</td>\n",
       "      <td>0.0</td>\n",
       "      <td>0.0</td>\n",
       "      <td>0.0</td>\n",
       "    </tr>\n",
       "    <tr>\n",
       "      <td>1</td>\n",
       "      <td>756838</td>\n",
       "      <td>2015-01-13</td>\n",
       "      <td>Desktop</td>\n",
       "      <td>Male</td>\n",
       "      <td>1</td>\n",
       "      <td>0.0</td>\n",
       "      <td>0.0</td>\n",
       "      <td>0.0</td>\n",
       "    </tr>\n",
       "    <tr>\n",
       "      <td>2</td>\n",
       "      <td>568983</td>\n",
       "      <td>2015-04-09</td>\n",
       "      <td>Desktop</td>\n",
       "      <td>Male</td>\n",
       "      <td>1</td>\n",
       "      <td>1.0</td>\n",
       "      <td>0.0</td>\n",
       "      <td>0.0</td>\n",
       "    </tr>\n",
       "    <tr>\n",
       "      <td>3</td>\n",
       "      <td>190794</td>\n",
       "      <td>2015-02-18</td>\n",
       "      <td>Desktop</td>\n",
       "      <td>Female</td>\n",
       "      <td>1</td>\n",
       "      <td>1.0</td>\n",
       "      <td>0.0</td>\n",
       "      <td>0.0</td>\n",
       "    </tr>\n",
       "    <tr>\n",
       "      <td>4</td>\n",
       "      <td>537909</td>\n",
       "      <td>2015-01-15</td>\n",
       "      <td>Desktop</td>\n",
       "      <td>Male</td>\n",
       "      <td>1</td>\n",
       "      <td>0.0</td>\n",
       "      <td>0.0</td>\n",
       "      <td>0.0</td>\n",
       "    </tr>\n",
       "    <tr>\n",
       "      <td>...</td>\n",
       "      <td>...</td>\n",
       "      <td>...</td>\n",
       "      <td>...</td>\n",
       "      <td>...</td>\n",
       "      <td>...</td>\n",
       "      <td>...</td>\n",
       "      <td>...</td>\n",
       "      <td>...</td>\n",
       "    </tr>\n",
       "    <tr>\n",
       "      <td>90395</td>\n",
       "      <td>307667</td>\n",
       "      <td>2015-03-30</td>\n",
       "      <td>Desktop</td>\n",
       "      <td>Female</td>\n",
       "      <td>1</td>\n",
       "      <td>0.0</td>\n",
       "      <td>0.0</td>\n",
       "      <td>0.0</td>\n",
       "    </tr>\n",
       "    <tr>\n",
       "      <td>90396</td>\n",
       "      <td>642989</td>\n",
       "      <td>2015-02-08</td>\n",
       "      <td>Desktop</td>\n",
       "      <td>Female</td>\n",
       "      <td>1</td>\n",
       "      <td>1.0</td>\n",
       "      <td>0.0</td>\n",
       "      <td>0.0</td>\n",
       "    </tr>\n",
       "    <tr>\n",
       "      <td>90397</td>\n",
       "      <td>659645</td>\n",
       "      <td>2015-04-13</td>\n",
       "      <td>Desktop</td>\n",
       "      <td>Male</td>\n",
       "      <td>1</td>\n",
       "      <td>1.0</td>\n",
       "      <td>0.0</td>\n",
       "      <td>0.0</td>\n",
       "    </tr>\n",
       "    <tr>\n",
       "      <td>90398</td>\n",
       "      <td>359779</td>\n",
       "      <td>2015-03-23</td>\n",
       "      <td>Desktop</td>\n",
       "      <td>Male</td>\n",
       "      <td>1</td>\n",
       "      <td>0.0</td>\n",
       "      <td>0.0</td>\n",
       "      <td>0.0</td>\n",
       "    </tr>\n",
       "    <tr>\n",
       "      <td>90399</td>\n",
       "      <td>438929</td>\n",
       "      <td>2015-03-26</td>\n",
       "      <td>Mobile</td>\n",
       "      <td>Female</td>\n",
       "      <td>1</td>\n",
       "      <td>0.0</td>\n",
       "      <td>0.0</td>\n",
       "      <td>0.0</td>\n",
       "    </tr>\n",
       "  </tbody>\n",
       "</table>\n",
       "<p>90400 rows × 8 columns</p>\n",
       "</div>"
      ],
      "text/plain": [
       "       user_id       date   device     sex  home_page  search_page  \\\n",
       "0       450007 2015-02-28  Desktop  Female          1          0.0   \n",
       "1       756838 2015-01-13  Desktop    Male          1          0.0   \n",
       "2       568983 2015-04-09  Desktop    Male          1          1.0   \n",
       "3       190794 2015-02-18  Desktop  Female          1          1.0   \n",
       "4       537909 2015-01-15  Desktop    Male          1          0.0   \n",
       "...        ...        ...      ...     ...        ...          ...   \n",
       "90395   307667 2015-03-30  Desktop  Female          1          0.0   \n",
       "90396   642989 2015-02-08  Desktop  Female          1          1.0   \n",
       "90397   659645 2015-04-13  Desktop    Male          1          1.0   \n",
       "90398   359779 2015-03-23  Desktop    Male          1          0.0   \n",
       "90399   438929 2015-03-26   Mobile  Female          1          0.0   \n",
       "\n",
       "       payment_page  payment_confirmation  \n",
       "0               0.0                   0.0  \n",
       "1               0.0                   0.0  \n",
       "2               0.0                   0.0  \n",
       "3               0.0                   0.0  \n",
       "4               0.0                   0.0  \n",
       "...             ...                   ...  \n",
       "90395           0.0                   0.0  \n",
       "90396           0.0                   0.0  \n",
       "90397           0.0                   0.0  \n",
       "90398           0.0                   0.0  \n",
       "90399           0.0                   0.0  \n",
       "\n",
       "[90400 rows x 8 columns]"
      ]
     },
     "execution_count": 4,
     "metadata": {},
     "output_type": "execute_result"
    }
   ],
   "source": [
    "def cleaning_data():\n",
    "    user = pd.read_csv(\"Data_funnel/user_table.csv\")\n",
    "    user['date'] = pd.to_datetime(user.date)\n",
    "    \n",
    "    homep = pd.read_csv(\"Data_funnel/home_page_table.csv\")\n",
    "    homep.page = 1\n",
    "    homep.rename(columns = {'page': 'home_page'}, inplace = True)\n",
    "    \n",
    "    searchp = pd.read_csv(\"Data_funnel/search_page_table.csv\")\n",
    "    searchp.page = 1\n",
    "    searchp.rename(columns = {'page': 'search_page'}, inplace = True)\n",
    "    \n",
    "    paymentp = pd.read_csv(\"Data_funnel/payment_page_table.csv\")\n",
    "    paymentp.page = 1\n",
    "    paymentp.rename(columns = {'page': 'payment_page'}, inplace = True)\n",
    "\n",
    "    paymentc = pd.read_csv(\"Data_funnel/payment_confirmation_table.csv\")\n",
    "    paymentc.page = 1\n",
    "    paymentc.rename(columns = {'page': 'payment_confirmation'}, inplace = True)\n",
    "    \n",
    "    data = user.merge(homep, on = 'user_id', how = 'left')\\\n",
    "                .merge(searchp, on = 'user_id', how = 'left').fillna(0)\\\n",
    "                .merge(paymentp, on = 'user_id', how = 'left').fillna(0)\\\n",
    "                .merge(paymentc, on = 'user_id', how = 'left').fillna(0)\n",
    "        \n",
    "    return data\n",
    "\n",
    "data = cleaning_data()\n",
    "data"
   ]
  },
  {
   "cell_type": "markdown",
   "metadata": {},
   "source": [
    "## Exploring Data"
   ]
  },
  {
   "cell_type": "code",
   "execution_count": 5,
   "metadata": {},
   "outputs": [
    {
     "name": "stdout",
     "output_type": "stream",
     "text": [
      "<class 'pandas.core.frame.DataFrame'>\n",
      "Int64Index: 90400 entries, 0 to 90399\n",
      "Data columns (total 8 columns):\n",
      "user_id                 90400 non-null int64\n",
      "date                    90400 non-null datetime64[ns]\n",
      "device                  90400 non-null object\n",
      "sex                     90400 non-null object\n",
      "home_page               90400 non-null int64\n",
      "search_page             90400 non-null float64\n",
      "payment_page            90400 non-null float64\n",
      "payment_confirmation    90400 non-null float64\n",
      "dtypes: datetime64[ns](1), float64(3), int64(2), object(2)\n",
      "memory usage: 6.2+ MB\n"
     ]
    }
   ],
   "source": [
    "data.info()"
   ]
  },
  {
   "cell_type": "markdown",
   "metadata": {},
   "source": [
    "No missing values found\n",
    "\n",
    "\n",
    "\n",
    "\n",
    "## Visualizing data \n",
    "\n"
   ]
  },
  {
   "cell_type": "markdown",
   "metadata": {},
   "source": [
    "### User visits across pages per each feature - Sex, Device\n"
   ]
  },
  {
   "cell_type": "code",
   "execution_count": 6,
   "metadata": {
    "scrolled": false
   },
   "outputs": [
    {
     "data": {
      "text/plain": [
       "<matplotlib.axes._subplots.AxesSubplot at 0x10a695050>"
      ]
     },
     "execution_count": 6,
     "metadata": {},
     "output_type": "execute_result"
    },
    {
     "data": {
      "image/png": "[encoded data removed]",
      "text/plain": [
       "<Figure size 1008x360 with 1 Axes>"
      ]
     },
     "metadata": {
      "needs_background": "light"
     },
     "output_type": "display_data"
    },
    {
     "data": {
      "image/png": "[encoded data removed]",
      "text/plain": [
       "<Figure size 1080x360 with 2 Axes>"
      ]
     },
     "metadata": {
      "needs_background": "light"
     },
     "output_type": "display_data"
    }
   ],
   "source": [
    "def chart():\n",
    "    ax = data[['home_page', 'search_page', 'payment_page', 'payment_confirmation']]\\\n",
    "                    .sum(axis = 0)\\\n",
    "                    .plot(kind = 'bar', title = 'User visits across pages', rot = 0)\n",
    "    ax.spines['right'].set_visible(False)\n",
    "    ax.spines['top'].set_visible(False)\n",
    "    ax.spines['left'].set_visible(False)\n",
    "    ax.legend(frameon = False)\n",
    "    return ax\n",
    "\n",
    "\n",
    "def chart1(by, axn):\n",
    "    ax = data.groupby(by)[['home_page', 'search_page', 'payment_page', 'payment_confirmation']].sum().T\\\n",
    "                    .plot(kind = 'bar', title = f'User Visits across pages by {by}', rot = 0, ax = axn)\n",
    "    ax.spines['right'].set_visible(False)\n",
    "    ax.spines['top'].set_visible(False)\n",
    "    ax.spines['left'].set_visible(False)\n",
    "    ax.legend(frameon = False)\n",
    "    return ax\n",
    "\n",
    "\n",
    "figure, (ax1) = plt.subplots(figsize = (14,5))\n",
    "chart()\n",
    "\n",
    "figure, (ax2, ax3) = plt.subplots(1,2, figsize = (15,5))\n",
    "chart1('sex', ax2)\n",
    "chart1('device', ax3)\n",
    "    \n",
    "    "
   ]
  },
  {
   "cell_type": "markdown",
   "metadata": {},
   "source": [
    "* **Sex**: Couldn't find visit number differences between male and female\n",
    "* **Device**: **Visits amount per Desktop to homepage and searchpage** are two times higher, but conversion rate looks similar.  \n",
    "\n",
    "Will explore more to see the relations with other features "
   ]
  },
  {
   "cell_type": "markdown",
   "metadata": {},
   "source": [
    "### User visits across pages per date\n"
   ]
  },
  {
   "cell_type": "code",
   "execution_count": 7,
   "metadata": {},
   "outputs": [],
   "source": [
    "data['DayofWeek'] = data.date.dt.day_name()\n",
    "data['month'] = data.date.dt.month"
   ]
  },
  {
   "cell_type": "code",
   "execution_count": 8,
   "metadata": {},
   "outputs": [
    {
     "data": {
      "text/plain": [
       "<matplotlib.axes._subplots.AxesSubplot at 0x10b1a9150>"
      ]
     },
     "execution_count": 8,
     "metadata": {},
     "output_type": "execute_result"
    },
    {
     "data": {
      "image/png": "[encoded data removed]",
      "text/plain": [
       "<Figure size 1080x360 with 2 Axes>"
      ]
     },
     "metadata": {
      "needs_background": "light"
     },
     "output_type": "display_data"
    }
   ],
   "source": [
    "# User visits per dayofweek\n",
    "\n",
    "def chartperdow(by, axn):\n",
    "    dow = ['Monday', 'Tuesday', 'Wednesday', 'Thursday', 'Friday', 'Sunday']\n",
    "    ax = data[data.device == by].groupby('DayofWeek').sum()[['home_page', 'search_page', 'payment_page', 'payment_confirmation']]\n",
    "    \n",
    "    # Conversion rate calculation\n",
    "    ax['search_c_rate'] = ax.search_page / ax.home_page * 100\n",
    "    ax['paymentp_c_rate'] = ax.payment_page / ax.home_page * 100\n",
    "    ax['paymentc_c_rate'] = ax.payment_confirmation / ax.home_page * 100\n",
    "    \n",
    "    # Making Graph\n",
    "    ax = ax.reindex(dow, index = True)\\\n",
    "        [['search_c_rate', 'paymentp_c_rate', 'paymentc_c_rate']]\\\n",
    "        .plot(kind = 'line', title = f'User Visits across pannel by week - {by}'\n",
    "              ,rot = 0, marker = 'o', ax = axn)\n",
    "    ax.spines['right'].set_visible(False)\n",
    "    ax.spines['top'].set_visible(False)\n",
    "    ax.spines['left'].set_visible(False)\n",
    "    ax.legend(frameon = False)\n",
    "    return ax\n",
    "\n",
    "figure, (ax1, ax2) = plt.subplots(1,2, figsize = (15,5))\n",
    "chartperdow('Mobile', ax1)\n",
    "chartperdow('Desktop', ax2)"
   ]
  },
  {
   "cell_type": "markdown",
   "metadata": {},
   "source": [
    "No specific difference per each DayofWeek"
   ]
  },
  {
   "cell_type": "code",
   "execution_count": 9,
   "metadata": {
    "scrolled": false
   },
   "outputs": [
    {
     "data": {
      "text/plain": [
       "<matplotlib.axes._subplots.AxesSubplot at 0x12a074410>"
      ]
     },
     "execution_count": 9,
     "metadata": {},
     "output_type": "execute_result"
    },
    {
     "data": {
      "image/png": "[encoded data removed]",
      "text/plain": [
       "<Figure size 1080x288 with 1 Axes>"
      ]
     },
     "metadata": {
      "needs_background": "light"
     },
     "output_type": "display_data"
    },
    {
     "data": {
      "image/png": "[encoded data removed]",
      "text/plain": [
       "<Figure size 1080x288 with 1 Axes>"
      ]
     },
     "metadata": {
      "needs_background": "light"
     },
     "output_type": "display_data"
    }
   ],
   "source": [
    "\n",
    "def chartperdate(by):\n",
    "    ax = data[data.device == by].groupby('date').sum()\\\n",
    "                [['home_page', 'search_page', 'payment_page', 'payment_confirmation']]\n",
    "                \n",
    "    ax['search_c_rate'] = ax.search_page / ax.home_page * 100\n",
    "    ax['paymentp_c_rate'] = ax.payment_page / ax.home_page * 100\n",
    "    ax['paymentc_c_rate'] = ax.payment_confirmation / ax.home_page * 100\n",
    "    ax = ax[['search_c_rate', 'paymentp_c_rate', 'paymentc_c_rate']].plot(kind = 'line', figsize = (15,4), title = by)\n",
    "    \n",
    "    ax.spines['right'].set_visible(False)\n",
    "    ax.spines['top'].set_visible(False)\n",
    "    ax.spines['left'].set_visible(False)\n",
    "    ax.legend(frameon = False)\n",
    "    return ax\n",
    "\n",
    "chartperdate('Mobile')\n",
    "chartperdate('Desktop')\n",
    "\n",
    "    "
   ]
  },
  {
   "cell_type": "markdown",
   "metadata": {},
   "source": [
    "But **for the conversion rate per date**, could confirm that there are significant reduction in the beginning of March. Trying to figure out more specific number and date"
   ]
  },
  {
   "cell_type": "code",
   "execution_count": 10,
   "metadata": {},
   "outputs": [
    {
     "data": {
      "text/html": [
       "<div>\n",
       "<style scoped>\n",
       "    .dataframe tbody tr th:only-of-type {\n",
       "        vertical-align: middle;\n",
       "    }\n",
       "\n",
       "    .dataframe tbody tr th {\n",
       "        vertical-align: top;\n",
       "    }\n",
       "\n",
       "    .dataframe thead th {\n",
       "        text-align: right;\n",
       "    }\n",
       "</style>\n",
       "<table border=\"1\" class=\"dataframe\">\n",
       "  <thead>\n",
       "    <tr style=\"text-align: right;\">\n",
       "      <th></th>\n",
       "      <th>date</th>\n",
       "      <th>search_c_rate</th>\n",
       "      <th>paymentp_c_rate</th>\n",
       "      <th>paymentc_c_rate</th>\n",
       "    </tr>\n",
       "  </thead>\n",
       "  <tbody>\n",
       "    <tr>\n",
       "      <td>57</td>\n",
       "      <td>2015-02-27</td>\n",
       "      <td>81.203008</td>\n",
       "      <td>16.541353</td>\n",
       "      <td>0.751880</td>\n",
       "    </tr>\n",
       "    <tr>\n",
       "      <td>58</td>\n",
       "      <td>2015-02-28</td>\n",
       "      <td>81.454545</td>\n",
       "      <td>17.090909</td>\n",
       "      <td>2.181818</td>\n",
       "    </tr>\n",
       "    <tr>\n",
       "      <td>59</td>\n",
       "      <td>2015-03-01</td>\n",
       "      <td>21.074380</td>\n",
       "      <td>4.132231</td>\n",
       "      <td>0.000000</td>\n",
       "    </tr>\n",
       "    <tr>\n",
       "      <td>60</td>\n",
       "      <td>2015-03-02</td>\n",
       "      <td>23.200000</td>\n",
       "      <td>3.600000</td>\n",
       "      <td>0.400000</td>\n",
       "    </tr>\n",
       "    <tr>\n",
       "      <td>61</td>\n",
       "      <td>2015-03-03</td>\n",
       "      <td>17.175573</td>\n",
       "      <td>3.435115</td>\n",
       "      <td>0.381679</td>\n",
       "    </tr>\n",
       "    <tr>\n",
       "      <td>62</td>\n",
       "      <td>2015-03-04</td>\n",
       "      <td>20.642202</td>\n",
       "      <td>4.587156</td>\n",
       "      <td>0.458716</td>\n",
       "    </tr>\n",
       "  </tbody>\n",
       "</table>\n",
       "</div>"
      ],
      "text/plain": [
       "         date  search_c_rate  paymentp_c_rate  paymentc_c_rate\n",
       "57 2015-02-27      81.203008        16.541353         0.751880\n",
       "58 2015-02-28      81.454545        17.090909         2.181818\n",
       "59 2015-03-01      21.074380         4.132231         0.000000\n",
       "60 2015-03-02      23.200000         3.600000         0.400000\n",
       "61 2015-03-03      17.175573         3.435115         0.381679\n",
       "62 2015-03-04      20.642202         4.587156         0.458716"
      ]
     },
     "metadata": {},
     "output_type": "display_data"
    },
    {
     "data": {
      "text/html": [
       "<div>\n",
       "<style scoped>\n",
       "    .dataframe tbody tr th:only-of-type {\n",
       "        vertical-align: middle;\n",
       "    }\n",
       "\n",
       "    .dataframe tbody tr th {\n",
       "        vertical-align: top;\n",
       "    }\n",
       "\n",
       "    .dataframe thead th {\n",
       "        text-align: right;\n",
       "    }\n",
       "</style>\n",
       "<table border=\"1\" class=\"dataframe\">\n",
       "  <thead>\n",
       "    <tr style=\"text-align: right;\">\n",
       "      <th></th>\n",
       "      <th>date</th>\n",
       "      <th>search_c_rate</th>\n",
       "      <th>paymentp_c_rate</th>\n",
       "      <th>paymentc_c_rate</th>\n",
       "    </tr>\n",
       "  </thead>\n",
       "  <tbody>\n",
       "    <tr>\n",
       "      <td>57</td>\n",
       "      <td>2015-02-27</td>\n",
       "      <td>47.908745</td>\n",
       "      <td>8.555133</td>\n",
       "      <td>0.190114</td>\n",
       "    </tr>\n",
       "    <tr>\n",
       "      <td>58</td>\n",
       "      <td>2015-02-28</td>\n",
       "      <td>53.775322</td>\n",
       "      <td>5.709024</td>\n",
       "      <td>0.184162</td>\n",
       "    </tr>\n",
       "    <tr>\n",
       "      <td>59</td>\n",
       "      <td>2015-03-01</td>\n",
       "      <td>48.333333</td>\n",
       "      <td>1.875000</td>\n",
       "      <td>0.000000</td>\n",
       "    </tr>\n",
       "    <tr>\n",
       "      <td>60</td>\n",
       "      <td>2015-03-02</td>\n",
       "      <td>45.875252</td>\n",
       "      <td>1.609658</td>\n",
       "      <td>0.201207</td>\n",
       "    </tr>\n",
       "    <tr>\n",
       "      <td>61</td>\n",
       "      <td>2015-03-03</td>\n",
       "      <td>52.878465</td>\n",
       "      <td>1.492537</td>\n",
       "      <td>0.426439</td>\n",
       "    </tr>\n",
       "    <tr>\n",
       "      <td>62</td>\n",
       "      <td>2015-03-04</td>\n",
       "      <td>45.643154</td>\n",
       "      <td>3.526971</td>\n",
       "      <td>0.622407</td>\n",
       "    </tr>\n",
       "  </tbody>\n",
       "</table>\n",
       "</div>"
      ],
      "text/plain": [
       "         date  search_c_rate  paymentp_c_rate  paymentc_c_rate\n",
       "57 2015-02-27      47.908745         8.555133         0.190114\n",
       "58 2015-02-28      53.775322         5.709024         0.184162\n",
       "59 2015-03-01      48.333333         1.875000         0.000000\n",
       "60 2015-03-02      45.875252         1.609658         0.201207\n",
       "61 2015-03-03      52.878465         1.492537         0.426439\n",
       "62 2015-03-04      45.643154         3.526971         0.622407"
      ]
     },
     "metadata": {},
     "output_type": "display_data"
    }
   ],
   "source": [
    "## Conversion rate table for specific date range to find out exact update date.\n",
    "\n",
    "def table(device):\n",
    "    table = data[data.device == device].groupby('date').sum()[['home_page', 'search_page', 'payment_page', 'payment_confirmation']]\n",
    "    table['search_c_rate'] = table.search_page / table.home_page * 100\n",
    "    table['paymentp_c_rate'] = table.payment_page / table.home_page * 100\n",
    "    table['paymentc_c_rate'] = table.payment_confirmation / table.home_page * 100\n",
    "    return table[['search_c_rate', 'paymentp_c_rate', 'paymentc_c_rate']]\n",
    "\n",
    "table1 = table('Mobile').reset_index()\n",
    "table2 = table('Desktop').reset_index()\n",
    "\n",
    "display(table1.iloc[57:63], table2.iloc[57:63])"
   ]
  },
  {
   "cell_type": "markdown",
   "metadata": {},
   "source": [
    "We can see there were update that blocks user to prceed next page were in **March 1st, 2015**"
   ]
  },
  {
   "cell_type": "code",
   "execution_count": 11,
   "metadata": {},
   "outputs": [
    {
     "name": "stdout",
     "output_type": "stream",
     "text": [
      "Mobile Jan-Feb conversion rate: \n",
      "search_c_rate      80.000000\n",
      "paymentp_c_rate    15.827815\n",
      "paymentc_c_rate     1.642384\n",
      "dtype: float64, \n",
      "\n",
      "Mobile Mar-Apr conversion rate: \n",
      "search_c_rate      20.000000\n",
      "paymentp_c_rate     4.172185\n",
      "paymentc_c_rate     0.357616\n",
      "dtype: float64\n",
      "\n",
      "\n",
      "Desktop Jan-Feb conversion rate: \n",
      "search_c_rate      50.368771\n",
      "paymentp_c_rate     8.013289\n",
      "paymentc_c_rate     0.378738\n",
      "dtype: float64, \n",
      "\n",
      "Desktop Mar-Apr conversion rate: \n",
      "search_c_rate      49.631229\n",
      "paymentp_c_rate     1.986711\n",
      "paymentc_c_rate     0.119601\n",
      "dtype: float64\n"
     ]
    }
   ],
   "source": [
    "## Calculating Average Conversion Rate for before and after change\n",
    "\n",
    "def table(device):\n",
    "    table = data[data.device == device].groupby('month').sum()[['home_page', 'search_page', 'payment_page', 'payment_confirmation']]\n",
    "    table['search_c_rate'] = table.search_page / table.home_page * 100\n",
    "    table['paymentp_c_rate'] = table.payment_page / table.home_page * 100\n",
    "    table['paymentc_c_rate'] = table.payment_confirmation / table.home_page * 100\n",
    "    return table[['search_c_rate', 'paymentp_c_rate', 'paymentc_c_rate']]\n",
    "\n",
    "table3 = table('Mobile')\n",
    "print(f\"Mobile Jan-Feb conversion rate: \\n{table3.loc[:2].mean()}, \\n\\nMobile Mar-Apr conversion rate: \\n{table3.loc[3:4].mean()}\")\n",
    "\n",
    "table4 = table('Desktop')\n",
    "print(f\"\\n\\nDesktop Jan-Feb conversion rate: \\n{table4.loc[:2].mean()}, \\n\\nDesktop Mar-Apr conversion rate: \\n{table4.loc[3:4].mean()}\")\n"
   ]
  },
  {
   "cell_type": "markdown",
   "metadata": {},
   "source": [
    "## Conclusion\n",
    "\n",
    "#### Reduction rate of the Conversion rate \n",
    "* **Mobile** : We can figure out from these graph and table that there was change in **mobile application from 2015-03-01** that affects **search page conversion rate from 81.45% to 21.07%** and **Payment page converion rate from 17.09% to 4.1%**. Should figure out which update in Mobile application became the blocking point for the conversion rate. \n",
    "* **Desktop** : Average of the payment page conversion rate are **reduced in 2015-03-01 from 5.71% to 1.87%**, should figure out which update in the desktop webpage affected the **from search to payment conversion rate.**\n",
    "\n",
    "#### General conversion rate between Desktop vs Mobile\n",
    "Before general conversion rate reduction in 2015-03-01, Average conversion rate for mobile were much higher than desktop as below.  Not clear whether target customer prefers to use Mobile or could there be possibility to find a solution to raise desktop conversion rate.   \n",
    "* Conversion rate to **search page**: 80% vs 50.36%\n",
    "* Conversion rate to **payment page**: 15.82% vs 8.01%\n",
    "* conversion rate to **payment confirmation**: 1.64% vs 0.37%"
   ]
  },
  {
   "cell_type": "markdown",
   "metadata": {},
   "source": [
    "### Reference\n",
    "Refered these two notebooks to create this notebook\n",
    "* [Funnel](https://github.com/JagaRamesh/ECommerceFunnelAnalysis/blob/master/Code/funnel.ipynb)\n",
    "* [Funnel Analysis](https://github.com/emindeniz/FunnelAnalysis/blob/master/Funnel_Analysis.ipynb)"
   ]
  },
  {
   "cell_type": "code",
   "execution_count": null,
   "metadata": {},
   "outputs": [],
   "source": []
  }
 ],
 "metadata": {
  "kernelspec": {
   "display_name": "Python 3",
   "language": "python",
   "name": "python3"
  },
  "language_info": {
   "codemirror_mode": {
    "name": "ipython",
    "version": 3
   },
   "file_extension": ".py",
   "mimetype": "text/x-python",
   "name": "python",
   "nbconvert_exporter": "python",
   "pygments_lexer": "ipython3",
   "version": "3.7.4"
  }
 },
 "nbformat": 4,
 "nbformat_minor": 2
}
